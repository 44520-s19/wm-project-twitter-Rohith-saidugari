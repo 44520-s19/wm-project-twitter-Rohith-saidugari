{
 "cells": [
  {
   "cell_type": "code",
   "execution_count": 3,
   "metadata": {},
   "outputs": [],
   "source": [
    "import tweepy\n",
    "import pickle \n",
    "from twitter_keys import consumer_key,consumer_secret,access_token,access_secret\n",
    "#create auth object\n",
    "auth = tweepy.OAuthHandler(consumer_key,consumer_secret)\n",
    "auth.set_access_token(access_token,access_secret)\n",
    "api= tweepy.API(auth)\n",
    "JOHNKLEMMERSAX_tweets = api.user_timeline('JOHNKLEMMERSAX')\n",
    "gallowsofficial_tweets = api.user_timeline('gallowsofficial')\n",
    "Apply_NW_tweets = api.user_timeline('Apply_NW')\n",
    "with open('Account1.pkl','wb') as f:\n",
    "    pickle.dump(JOHNKLEMMERSAX_tweets,f)\n",
    "with open('Account2.pkl','wb') as f:\n",
    "    pickle.dump(gallowsofficial_tweets,f)\n",
    "with open('Account3.pkl','wb') as f:\n",
    "    pickle.dump(Apply_NW_tweets,f)"
   ]
  },
  {
   "cell_type": "code",
   "execution_count": 4,
   "metadata": {},
   "outputs": [],
   "source": [
    "# Load Data\n",
    "import pickle\n",
    "with open('Account1.pkl','rb') as f:\n",
    "    JOHNKLEMMERSAX_tweets = pickle.load(f)\n",
    "with open('Account2.pkl','rb') as f:\n",
    "    gallowsofficial_tweets = pickle.load(f)\n",
    "with open('Account3.pkl','rb') as f:\n",
    "    Apply_NW_tweets = pickle.load(f)"
   ]
  },
  {
   "cell_type": "code",
   "execution_count": null,
   "metadata": {},
   "outputs": [],
   "source": [
    "# Lexical Diversity"
   ]
  },
  {
   "cell_type": "code",
   "execution_count": null,
   "metadata": {},
   "outputs": [],
   "source": [
    "# Sentiment Analysis"
   ]
  },
  {
   "cell_type": "code",
   "execution_count": null,
   "metadata": {},
   "outputs": [],
   "source": [
    "# Compare Accounts By their Status (verified or Not verified)"
   ]
  }
 ],
 "metadata": {
  "kernelspec": {
   "display_name": "Python 3",
   "language": "python",
   "name": "python3"
  },
  "language_info": {
   "codemirror_mode": {
    "name": "ipython",
    "version": 3
   },
   "file_extension": ".py",
   "mimetype": "text/x-python",
   "name": "python",
   "nbconvert_exporter": "python",
   "pygments_lexer": "ipython3",
   "version": "3.7.3"
  }
 },
 "nbformat": 4,
 "nbformat_minor": 2
}
